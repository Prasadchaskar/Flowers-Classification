{
  "nbformat": 4,
  "nbformat_minor": 0,
  "metadata": {
    "colab": {
      "name": "flowers.ipynb",
      "provenance": [],
      "mount_file_id": "1g4nxs4GO1q4fSejSYdyGj8Hc24jtSuhf",
      "authorship_tag": "ABX9TyN9RxYkkaLLxX/elfkuA4A1",
      "include_colab_link": true
    },
    "kernelspec": {
      "name": "python3",
      "display_name": "Python 3"
    },
    "language_info": {
      "name": "python"
    },
    "accelerator": "GPU"
  },
  "cells": [
    {
      "cell_type": "markdown",
      "metadata": {
        "id": "view-in-github",
        "colab_type": "text"
      },
      "source": [
        "<a href=\"https://colab.research.google.com/github/Prasadchaskar/Flowers-Classification/blob/main/flowers.ipynb\" target=\"_parent\"><img src=\"https://colab.research.google.com/assets/colab-badge.svg\" alt=\"Open In Colab\"/></a>"
      ]
    },
    {
      "cell_type": "code",
      "source": [
        "# import zipfile\n",
        "# !unzip /content/drive/MyDrive/flowers.zip"
      ],
      "metadata": {
        "id": "eBB-sj_41kgV"
      },
      "execution_count": 124,
      "outputs": []
    },
    {
      "cell_type": "code",
      "source": [
        "import pandas as pd\n",
        "import numpy as np\n",
        "import matplotlib.pyplot as plt\n",
        "%matplotlib inline\n",
        "import seaborn as sns\n",
        "sns.set(style=\"whitegrid\")\n",
        "import os\n",
        "import glob as gb\n",
        "import cv2\n",
        "import tensorflow as tf\n",
        "from tensorflow import keras\n",
        "from tqdm import tqdm"
      ],
      "metadata": {
        "id": "SQi0IWUwi5Fh"
      },
      "execution_count": 125,
      "outputs": []
    },
    {
      "cell_type": "code",
      "source": [
        "path = '/content/17_flowers/train/'\n"
      ],
      "metadata": {
        "id": "3gT52X4-i5lo"
      },
      "execution_count": 126,
      "outputs": []
    },
    {
      "cell_type": "code",
      "source": [
        "l = list()\n",
        "for folder in os.listdir(path):\n",
        "    l.append(folder)"
      ],
      "metadata": {
        "id": "GnpvZnj3i_9Q"
      },
      "execution_count": 127,
      "outputs": []
    },
    {
      "cell_type": "code",
      "source": [
        "def shapeCount (Gpath):\n",
        "    size = []\n",
        "    pathname = str(Gpath+'*/*.jpg')\n",
        "    imgsDir = gb.glob(pathname= pathname)\n",
        "    for imgDir in tqdm(imgsDir):\n",
        "        img = plt.imread(imgDir)\n",
        "        size.append(img.shape)\n",
        "    print(\"number of Imges = \",len(size))\n",
        "    return pd.Series(size).value_counts()"
      ],
      "metadata": {
        "id": "EmFgvLPvjDp3"
      },
      "execution_count": 128,
      "outputs": []
    },
    {
      "cell_type": "code",
      "source": [
        "print (shapeCount(path))"
      ],
      "metadata": {
        "colab": {
          "base_uri": "https://localhost:8080/"
        },
        "id": "WzzH9SXTjVew",
        "outputId": "425f7d0f-5928-4895-9b68-12805af4f67a"
      },
      "execution_count": 129,
      "outputs": [
        {
          "output_type": "stream",
          "name": "stderr",
          "text": [
            "100%|██████████| 1190/1190 [00:06<00:00, 196.39it/s]"
          ]
        },
        {
          "output_type": "stream",
          "name": "stdout",
          "text": [
            "number of Imges =  1190\n",
            "(500, 666, 3)    236\n",
            "(666, 500, 3)     63\n",
            "(500, 500, 3)     46\n",
            "(750, 500, 3)     21\n",
            "(500, 750, 3)     19\n",
            "                ... \n",
            "(522, 499, 3)      1\n",
            "(752, 500, 3)      1\n",
            "(763, 500, 3)      1\n",
            "(659, 500, 3)      1\n",
            "(709, 499, 3)      1\n",
            "Length: 438, dtype: int64\n"
          ]
        },
        {
          "output_type": "stream",
          "name": "stderr",
          "text": [
            "\n"
          ]
        }
      ]
    },
    {
      "cell_type": "code",
      "source": [
        "I_SIZE = 180\n",
        "classes = ['daisy', 'bluebell', 'colts_foot', 'crocus', 'daffodil', 'fritillary', 'snowdrop', 'iris', 'dandelion', 'cowslip', 'lily_valley', 'pansy', 'sunflower', 'tigerlily', 'tulip', 'windflower', 'buttercup']\n"
      ],
      "metadata": {
        "id": "-0JzKqMyjKRo"
      },
      "execution_count": 130,
      "outputs": []
    },
    {
      "cell_type": "code",
      "source": [
        "def reArangeData(data):\n",
        "    # shuffle\n",
        "    import random\n",
        "    random.shuffle(data)\n",
        "    \n",
        "    # get X,Y\n",
        "    X = []\n",
        "    y = []\n",
        "    for img,lable in data:\n",
        "        X.append(img)\n",
        "        y.append(lable)\n",
        "        \n",
        "    # convert it to npArray\n",
        "    return np.array(X),np.array(y)\n",
        "\n",
        "# this function take the images path => load all this images \n",
        "# => return X (numpy array of images) , y (numpy array of labels)\n",
        "def loadImages (path):\n",
        "    Dlist = []\n",
        "    for folder in os.listdir(path):\n",
        "        pathname = str(path +folder+'/*.jpg')\n",
        "        files = gb.glob(pathname= pathname)\n",
        "        for file in tqdm(files):\n",
        "            image = cv2.imread(file ,cv2.IMREAD_COLOR )\n",
        "            #image = cv2.cvtColor(image , cv2.COLOR_BGR2HSV)\n",
        "            image_array = cv2.resize(image , (I_SIZE ,I_SIZE))\n",
        "            Dlist.append( [image_array , classes.index(folder)] )\n",
        "    print(len(Dlist))\n",
        "    return reArangeData(Dlist)"
      ],
      "metadata": {
        "id": "kvG8sL0aja0p"
      },
      "execution_count": 131,
      "outputs": []
    },
    {
      "cell_type": "code",
      "source": [
        "X , y = loadImages(path)"
      ],
      "metadata": {
        "colab": {
          "base_uri": "https://localhost:8080/"
        },
        "id": "egBBub0gjfpq",
        "outputId": "5113fe33-2872-43b5-ecb2-78eac4b2d470"
      },
      "execution_count": 132,
      "outputs": [
        {
          "output_type": "stream",
          "name": "stderr",
          "text": [
            "100%|██████████| 70/70 [00:00<00:00, 219.79it/s]\n",
            "100%|██████████| 70/70 [00:00<00:00, 202.07it/s]\n",
            "100%|██████████| 70/70 [00:00<00:00, 203.48it/s]\n",
            "100%|██████████| 70/70 [00:00<00:00, 187.39it/s]\n",
            "100%|██████████| 70/70 [00:00<00:00, 206.78it/s]\n",
            "100%|██████████| 70/70 [00:00<00:00, 207.07it/s]\n",
            "100%|██████████| 70/70 [00:00<00:00, 204.69it/s]\n",
            "100%|██████████| 70/70 [00:00<00:00, 228.75it/s]\n",
            "100%|██████████| 70/70 [00:00<00:00, 209.45it/s]\n",
            "100%|██████████| 70/70 [00:00<00:00, 194.77it/s]\n",
            "100%|██████████| 70/70 [00:00<00:00, 208.90it/s]\n",
            "100%|██████████| 70/70 [00:00<00:00, 216.47it/s]\n",
            "100%|██████████| 70/70 [00:00<00:00, 190.39it/s]\n",
            "100%|██████████| 70/70 [00:00<00:00, 196.38it/s]\n",
            "100%|██████████| 70/70 [00:00<00:00, 191.14it/s]\n",
            "100%|██████████| 70/70 [00:00<00:00, 212.86it/s]\n",
            "100%|██████████| 70/70 [00:00<00:00, 227.54it/s]"
          ]
        },
        {
          "output_type": "stream",
          "name": "stdout",
          "text": [
            "1190\n"
          ]
        },
        {
          "output_type": "stream",
          "name": "stderr",
          "text": [
            "\n"
          ]
        }
      ]
    },
    {
      "cell_type": "code",
      "source": [
        "# normalize all data\n",
        "# X=X/255"
      ],
      "metadata": {
        "id": "tajm2gW_jiYD"
      },
      "execution_count": 133,
      "outputs": []
    },
    {
      "cell_type": "code",
      "source": [
        "# # figure out samples of this data\n",
        "# plt.figure(figsize=(10,10))\n",
        "# for i in range(16):\n",
        "#     plt.subplot(4,4,i+1)\n",
        "#     plt.imshow(X[i])\n",
        "#     plt.axis('off')\n",
        "#     plt.title(classes[y[i]])"
      ],
      "metadata": {
        "id": "E6LkgebOjpsb"
      },
      "execution_count": 134,
      "outputs": []
    },
    {
      "cell_type": "code",
      "source": [
        "from sklearn.model_selection import train_test_split\n",
        "\n",
        "X_train, X_test, y_train, y_test = train_test_split(X, y, test_size=0.10, random_state=42)"
      ],
      "metadata": {
        "id": "J041vw94j8Q_"
      },
      "execution_count": 135,
      "outputs": []
    },
    {
      "cell_type": "code",
      "source": [
        "X_train_scaled = X_train / 255\n",
        "X_test_scaled = X_test /  255"
      ],
      "metadata": {
        "id": "9qeCbIG9msmF"
      },
      "execution_count": 136,
      "outputs": []
    },
    {
      "cell_type": "code",
      "source": [
        "# from keras.preprocessing.image import ImageDataGenerator\n",
        "# from keras.callbacks import ReduceLROnPlateau\n",
        "\n",
        "# datagen = ImageDataGenerator(\n",
        "#         featurewise_center=False,  # set input mean to 0 over the dataset\n",
        "#         samplewise_center=False,  # set each sample mean to 0\n",
        "#         featurewise_std_normalization=False,  # divide inputs by std of the dataset\n",
        "#         samplewise_std_normalization=False,  # divide each input by its std\n",
        "#         zca_whitening=False,  # apply ZCA whitening\n",
        "#         rotation_range=10,  # randomly rotate images in the range (degrees, 0 to 180)\n",
        "#         zoom_range = 0.1, # Randomly zoom image \n",
        "#         width_shift_range=0.1,  # randomly shift images horizontally (fraction of total width)\n",
        "#         height_shift_range=0.1,  # randomly shift images vertically (fraction of total height)\n",
        "#         horizontal_flip=False,  # randomly flip images\n",
        "#         vertical_flip=False)  # randomly flip images\n",
        "\n",
        "# datagen.fit(X_train)"
      ],
      "metadata": {
        "id": "Rkeb60KMkCvk"
      },
      "execution_count": 137,
      "outputs": []
    },
    {
      "cell_type": "code",
      "source": [
        "from tensorflow.keras import  models,layers\n",
        "model = models.Sequential([\n",
        "    layers.Conv2D(filters=32, kernel_size=(4, 4),\n",
        "                  activation='relu', input_shape=(180, 180, 3)),\n",
        "    layers.MaxPooling2D(pool_size=(2, 2)),\n",
        "    layers.Dropout(0.5),\n",
        "    layers.Flatten(),\n",
        "    layers.Dense(60,activation='relu'),\n",
        "    layers.Dense(17,activation='softmax')\n",
        "]\n",
        ")\n",
        "model.compile(\n",
        "    optimizer='adam',\n",
        "    loss='sparse_categorical_crossentropy',\n",
        "    metrics=['accuracy']\n",
        ")"
      ],
      "metadata": {
        "id": "VevUbjgPkG8U"
      },
      "execution_count": 138,
      "outputs": []
    },
    {
      "cell_type": "code",
      "source": [
        "model.compile(\n",
        "    optimizer='adam',\n",
        "    loss=tf.keras.losses.SparseCategoricalCrossentropy(from_logits=False),\n",
        "    metrics=['accuracy']\n",
        ")"
      ],
      "metadata": {
        "id": "6ABNrJUPkSZN"
      },
      "execution_count": 139,
      "outputs": []
    },
    {
      "cell_type": "code",
      "source": [
        "model.fit(X_train_scaled,y_train,epochs=10)"
      ],
      "metadata": {
        "colab": {
          "base_uri": "https://localhost:8080/"
        },
        "id": "OewoiTKZkVa1",
        "outputId": "ea19ee99-a862-40bf-ae01-445402b3b11d"
      },
      "execution_count": 140,
      "outputs": [
        {
          "output_type": "stream",
          "name": "stdout",
          "text": [
            "Epoch 1/10\n",
            "34/34 [==============================] - 2s 39ms/step - loss: 6.1223 - accuracy: 0.0915\n",
            "Epoch 2/10\n",
            "34/34 [==============================] - 1s 35ms/step - loss: 2.3101 - accuracy: 0.2885\n",
            "Epoch 3/10\n",
            "34/34 [==============================] - 1s 35ms/step - loss: 1.3354 - accuracy: 0.5882\n",
            "Epoch 4/10\n",
            "34/34 [==============================] - 1s 35ms/step - loss: 0.5603 - accuracy: 0.8357\n",
            "Epoch 5/10\n",
            "34/34 [==============================] - 1s 35ms/step - loss: 0.1447 - accuracy: 0.9757\n",
            "Epoch 6/10\n",
            "34/34 [==============================] - 1s 35ms/step - loss: 0.0351 - accuracy: 0.9963\n",
            "Epoch 7/10\n",
            "34/34 [==============================] - 1s 36ms/step - loss: 0.0115 - accuracy: 1.0000\n",
            "Epoch 8/10\n",
            "34/34 [==============================] - 1s 35ms/step - loss: 0.0039 - accuracy: 1.0000\n",
            "Epoch 9/10\n",
            "34/34 [==============================] - 1s 36ms/step - loss: 0.0024 - accuracy: 1.0000\n",
            "Epoch 10/10\n",
            "34/34 [==============================] - 1s 35ms/step - loss: 0.0017 - accuracy: 1.0000\n"
          ]
        },
        {
          "output_type": "execute_result",
          "data": {
            "text/plain": [
              "<keras.callbacks.History at 0x7f64ae7cb990>"
            ]
          },
          "metadata": {},
          "execution_count": 140
        }
      ]
    },
    {
      "cell_type": "code",
      "source": [
        "model.evaluate(X_test_scaled,y_test)"
      ],
      "metadata": {
        "colab": {
          "base_uri": "https://localhost:8080/"
        },
        "id": "JzRmoBZZkhHa",
        "outputId": "61f93c5e-bf54-4034-c29f-3b399ffdc925"
      },
      "execution_count": 141,
      "outputs": [
        {
          "output_type": "stream",
          "name": "stdout",
          "text": [
            "4/4 [==============================] - 0s 17ms/step - loss: 1.7379 - accuracy: 0.6303\n"
          ]
        },
        {
          "output_type": "execute_result",
          "data": {
            "text/plain": [
              "[1.737865686416626, 0.6302521228790283]"
            ]
          },
          "metadata": {},
          "execution_count": 141
        }
      ]
    },
    {
      "cell_type": "code",
      "source": [
        "y_pred = list()\n",
        "for i in model.predict(X_test_scaled):\n",
        "  y_pred.append(np.argmax(i))\n",
        "y_pred = np.array(y_pred)"
      ],
      "metadata": {
        "id": "h_2An6nLn0dD"
      },
      "execution_count": 142,
      "outputs": []
    },
    {
      "cell_type": "code",
      "source": [
        "from sklearn.metrics import  classification_report,confusion_matrix\n",
        "print(classification_report(y_test,y_pred))"
      ],
      "metadata": {
        "id": "ujvi2DnRn5aI",
        "outputId": "4f2fc090-1290-4ad9-9c27-d4125178f28f",
        "colab": {
          "base_uri": "https://localhost:8080/"
        }
      },
      "execution_count": 143,
      "outputs": [
        {
          "output_type": "stream",
          "name": "stdout",
          "text": [
            "              precision    recall  f1-score   support\n",
            "\n",
            "           0       0.71      0.83      0.77         6\n",
            "           1       0.62      0.62      0.62         8\n",
            "           2       0.50      0.75      0.60         4\n",
            "           3       0.50      0.44      0.47         9\n",
            "           4       0.80      0.50      0.62         8\n",
            "           5       0.60      0.50      0.55         6\n",
            "           6       0.00      0.00      0.00         3\n",
            "           7       1.00      0.44      0.62         9\n",
            "           8       1.00      0.83      0.91         6\n",
            "           9       0.27      0.43      0.33         7\n",
            "          10       0.82      0.82      0.82        11\n",
            "          11       0.44      0.67      0.53         6\n",
            "          12       0.75      1.00      0.86         6\n",
            "          13       0.90      0.82      0.86        11\n",
            "          14       0.67      0.57      0.62         7\n",
            "          15       0.71      0.83      0.77         6\n",
            "          16       0.33      0.33      0.33         6\n",
            "\n",
            "    accuracy                           0.63       119\n",
            "   macro avg       0.63      0.61      0.60       119\n",
            "weighted avg       0.67      0.63      0.63       119\n",
            "\n"
          ]
        }
      ]
    },
    {
      "cell_type": "code",
      "source": [
        "class_names = [i for i in range(18)]\n",
        "fig,ax = plt.subplots()\n",
        "tick_marks = np.arange(len(class_names))\n",
        "plt.xticks(tick_marks,class_names)\n",
        "plt.yticks(tick_marks,class_names)\n",
        "cnf_matrix = confusion_matrix(y_test,y_pred)\n",
        "sns.heatmap(pd.DataFrame(cnf_matrix), annot = True, cmap = 'YlGnBu',\n",
        "                fmt = 'g')\n",
        "ax.xaxis.set_label_position('top')\n",
        "plt.tight_layout()\n",
        "plt.ylabel('Actual label')\n",
        "plt.xlabel('Predicted label')\n",
        "plt.show()"
      ],
      "metadata": {
        "id": "yc2n0krfn7Q4",
        "outputId": "1cc2998d-133f-422d-b597-4f7cc26b862f",
        "colab": {
          "base_uri": "https://localhost:8080/",
          "height": 303
        }
      },
      "execution_count": 144,
      "outputs": [
        {
          "output_type": "display_data",
          "data": {
            "image/png": "[encoded data removed]",
            "text/plain": [
              "<Figure size 432x288 with 2 Axes>"
            ]
          },
          "metadata": {}
        }
      ]
    },
    {
      "cell_type": "code",
      "source": [
        "model.save(\"flower.h5\")"
      ],
      "metadata": {
        "id": "_5OQbEWOpT3T"
      },
      "execution_count": 145,
      "outputs": []
    },
    {
      "cell_type": "code",
      "source": [
        ""
      ],
      "metadata": {
        "id": "vSh8v9e0pXi5"
      },
      "execution_count": null,
      "outputs": []
    }
  ]
}