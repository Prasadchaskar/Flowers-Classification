{
  "nbformat": 4,
  "nbformat_minor": 0,
  "metadata": {
    "colab": {
      "name": "flowers.ipynb",
      "provenance": [],
      "mount_file_id": "1g4nxs4GO1q4fSejSYdyGj8Hc24jtSuhf",
      "authorship_tag": "ABX9TyOsEcNi7wLCbFFjVkziVayY",
      "include_colab_link": true
    },
    "kernelspec": {
      "name": "python3",
      "display_name": "Python 3"
    },
    "language_info": {
      "name": "python"
    },
    "accelerator": "GPU"
  },
  "cells": [
    {
      "cell_type": "markdown",
      "metadata": {
        "id": "view-in-github",
        "colab_type": "text"
      },
      "source": [
        "<a href=\"https://colab.research.google.com/github/Prasadchaskar/Flowers-Classification/blob/main/flowers.ipynb\" target=\"_parent\"><img src=\"https://colab.research.google.com/assets/colab-badge.svg\" alt=\"Open In Colab\"/></a>"
      ]
    },
    {
      "cell_type": "code",
      "execution_count": 23,
      "metadata": {
        "id": "Z1aPt_Yp0JQW"
      },
      "outputs": [],
      "source": [
        "import tensorflow as tf\n",
        "from tensorflow.keras import models, layers\n",
        "import matplotlib.pyplot as plt\n",
        "from pprint import pprint"
      ]
    },
    {
      "cell_type": "code",
      "source": [
        "BATCH_SIZE = 20\n",
        "IMAGE_SIZE = 180\n",
        "CHANNELS=3\n",
        "EPOCHS=10"
      ],
      "metadata": {
        "id": "3L8i3RjZ7pAv"
      },
      "execution_count": 24,
      "outputs": []
    },
    {
      "cell_type": "code",
      "source": [
        "# import zipfile\n",
        "# !unzip /content/drive/MyDrive/flowers.zip"
      ],
      "metadata": {
        "id": "eBB-sj_41kgV"
      },
      "execution_count": 25,
      "outputs": []
    },
    {
      "cell_type": "code",
      "source": [
        "dataset = tf.keras.preprocessing.image_dataset_from_directory(\n",
        "    \"/content/17_flowers\",\n",
        "    seed=123,\n",
        "    shuffle=True,\n",
        "    image_size=(IMAGE_SIZE,IMAGE_SIZE),\n",
        "    batch_size=BATCH_SIZE\n",
        ") "
      ],
      "metadata": {
        "colab": {
          "base_uri": "https://localhost:8080/"
        },
        "id": "OnTjhBh51oou",
        "outputId": "4691d0e2-8b82-4ca0-facb-d5700bfc2e2c"
      },
      "execution_count": 26,
      "outputs": [
        {
          "output_type": "stream",
          "name": "stdout",
          "text": [
            "Found 1360 files belonging to 2 classes.\n"
          ]
        }
      ]
    },
    {
      "cell_type": "code",
      "source": [
        "class_names = dataset.class_names"
      ],
      "metadata": {
        "id": "XyprWi2f2d96"
      },
      "execution_count": 27,
      "outputs": []
    },
    {
      "cell_type": "code",
      "source": [
        "def get_dataset_partitions_tf(ds, train_split=0.8,test_split=0.2, shuffle=True, shuffle_size=10000):\n",
        "    assert (train_split + test_split) == 1\n",
        "    \n",
        "    ds_size = len(ds)\n",
        "    \n",
        "    if shuffle:\n",
        "        ds = ds.shuffle(shuffle_size, seed=12)\n",
        "    \n",
        "    train_size = int(train_split * ds_size)\n",
        "    val_size = int(test_split * ds_size)\n",
        "    \n",
        "    train_ds = ds.take(train_size)    \n",
        "    val_ds = ds.skip(train_size).take(val_size)\n",
        "    test_ds = ds.skip(train_size).skip(val_size)\n",
        "    \n",
        "    return train_ds,test_ds"
      ],
      "metadata": {
        "id": "0hO845Uk4ShF"
      },
      "execution_count": 28,
      "outputs": []
    },
    {
      "cell_type": "code",
      "source": [
        "train_data,test_data = get_dataset_partitions_tf(dataset)"
      ],
      "metadata": {
        "id": "yhP0yxo454wx"
      },
      "execution_count": 29,
      "outputs": []
    },
    {
      "cell_type": "code",
      "source": [
        "train_ds = train_data.cache().shuffle(1000).prefetch(buffer_size=tf.data.AUTOTUNE)\n",
        "val_ds = val_data.cache().shuffle(1000).prefetch(buffer_size=tf.data.AUTOTUNE)\n",
        "test_ds = test_data.cache().shuffle(1000).prefetch(buffer_size=tf.data.AUTOTUNE)"
      ],
      "metadata": {
        "id": "o1kOm4Z956YI"
      },
      "execution_count": 30,
      "outputs": []
    },
    {
      "cell_type": "code",
      "source": [
        "resize_and_rescale = tf.keras.Sequential([\n",
        "  layers.experimental.preprocessing.Resizing(IMAGE_SIZE, IMAGE_SIZE),\n",
        "  layers.experimental.preprocessing.Rescaling(1./255),\n",
        "])"
      ],
      "metadata": {
        "id": "ls9B8SXM6MjY"
      },
      "execution_count": 31,
      "outputs": []
    },
    {
      "cell_type": "code",
      "source": [
        "data_augmentation = tf.keras.Sequential([\n",
        "  layers.experimental.preprocessing.RandomFlip(\"horizontal_and_vertical\"),\n",
        "  layers.experimental.preprocessing.RandomRotation(0.2),\n",
        "])"
      ],
      "metadata": {
        "id": "SWdjBEkG6Osl"
      },
      "execution_count": 32,
      "outputs": []
    },
    {
      "cell_type": "code",
      "source": [
        "\n",
        "train_ds = train_ds.map(\n",
        "    lambda x, y: (data_augmentation(x, training=True), y)\n",
        ").prefetch(buffer_size=tf.data.AUTOTUNE)"
      ],
      "metadata": {
        "id": "xqgUlDEw6TrF"
      },
      "execution_count": 33,
      "outputs": []
    },
    {
      "cell_type": "code",
      "source": [
        "input_shape = (BATCH_SIZE, IMAGE_SIZE, IMAGE_SIZE, CHANNELS)\n",
        "n_classes = 17\n",
        "model = models.Sequential([\n",
        "    resize_and_rescale,\n",
        "    layers.Conv2D(32, kernel_size = (3,3), activation='relu', input_shape=input_shape),\n",
        "    layers.MaxPooling2D((2, 2)),\n",
        "    # layers.Conv2D(64,  kernel_size = (3,3), activation='relu'),\n",
        "    # layers.MaxPooling2D((2, 2)),\n",
        "    # layers.Conv2D(64,  kernel_size = (3,3), activation='relu'),\n",
        "    layers.Flatten(),\n",
        "    layers.Dense(64, activation='relu'),\n",
        "    layers.Dense(n_classes, activation='softmax'),\n",
        "])\n",
        "\n",
        "model.build(input_shape=input_shape)"
      ],
      "metadata": {
        "id": "a6Gf--oP6VtW"
      },
      "execution_count": 34,
      "outputs": []
    },
    {
      "cell_type": "code",
      "source": [
        "model.compile(\n",
        "    optimizer='adam',\n",
        "    loss=tf.keras.losses.SparseCategoricalCrossentropy(from_logits=False),\n",
        "    metrics=['accuracy']\n",
        ")"
      ],
      "metadata": {
        "id": "_ud1zKBo7D1-"
      },
      "execution_count": 35,
      "outputs": []
    },
    {
      "cell_type": "code",
      "source": [
        "history = model.fit(\n",
        "        train_ds,\n",
        "        batch_size=BATCH_SIZE,\n",
        "        validation_data=val_ds,\n",
        "        verbose=1, \n",
        "        epochs=13,\n",
        "    )"
      ],
      "metadata": {
        "colab": {
          "base_uri": "https://localhost:8080/"
        },
        "id": "lC1KqwBV7Ew9",
        "outputId": "30fdfae3-0371-42ab-8782-28879976d9cd"
      },
      "execution_count": 36,
      "outputs": [
        {
          "output_type": "stream",
          "name": "stdout",
          "text": [
            "Epoch 1/13\n",
            "54/54 [==============================] - 9s 116ms/step - loss: 3.5079 - accuracy: 0.7907 - val_loss: 0.4775 - val_accuracy: 0.8438\n",
            "Epoch 2/13\n",
            "54/54 [==============================] - 4s 77ms/step - loss: 0.3705 - accuracy: 0.8833 - val_loss: 0.4992 - val_accuracy: 0.8438\n",
            "Epoch 3/13\n",
            "54/54 [==============================] - 4s 77ms/step - loss: 0.3588 - accuracy: 0.8861 - val_loss: 0.5603 - val_accuracy: 0.8438\n",
            "Epoch 4/13\n",
            "54/54 [==============================] - 4s 76ms/step - loss: 0.3657 - accuracy: 0.8833 - val_loss: 0.5908 - val_accuracy: 0.8438\n",
            "Epoch 5/13\n",
            "54/54 [==============================] - 4s 75ms/step - loss: 0.3514 - accuracy: 0.8843 - val_loss: 0.4494 - val_accuracy: 0.8516\n",
            "Epoch 6/13\n",
            "54/54 [==============================] - 4s 75ms/step - loss: 0.3533 - accuracy: 0.8824 - val_loss: 0.4769 - val_accuracy: 0.8438\n",
            "Epoch 7/13\n",
            "54/54 [==============================] - 4s 77ms/step - loss: 0.3525 - accuracy: 0.8833 - val_loss: 0.5252 - val_accuracy: 0.8438\n",
            "Epoch 8/13\n",
            "54/54 [==============================] - 4s 76ms/step - loss: 0.3817 - accuracy: 0.8843 - val_loss: 0.4407 - val_accuracy: 0.8438\n",
            "Epoch 9/13\n",
            "54/54 [==============================] - 4s 76ms/step - loss: 0.3588 - accuracy: 0.8843 - val_loss: 0.5117 - val_accuracy: 0.8438\n",
            "Epoch 10/13\n",
            "54/54 [==============================] - 4s 76ms/step - loss: 0.3483 - accuracy: 0.8861 - val_loss: 0.4341 - val_accuracy: 0.8359\n",
            "Epoch 11/13\n",
            "54/54 [==============================] - 4s 76ms/step - loss: 0.3473 - accuracy: 0.8815 - val_loss: 0.4579 - val_accuracy: 0.8438\n",
            "Epoch 12/13\n",
            "54/54 [==============================] - 4s 76ms/step - loss: 0.3345 - accuracy: 0.8833 - val_loss: 0.5472 - val_accuracy: 0.8359\n",
            "Epoch 13/13\n",
            "54/54 [==============================] - 5s 100ms/step - loss: 0.3548 - accuracy: 0.8843 - val_loss: 0.4387 - val_accuracy: 0.8438\n"
          ]
        }
      ]
    }
  ]
}